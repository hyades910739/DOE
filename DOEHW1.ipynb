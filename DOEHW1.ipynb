{
 "cells": [
  {
   "cell_type": "markdown",
   "metadata": {},
   "source": [
    "## DOE HW1\n",
    "\n",
    "2018.3.7  \n",
    "統碩一 賴東昇 106354002"
   ]
  },
  {
   "cell_type": "markdown",
   "metadata": {},
   "source": [
    "## In class example\n",
    "    "
   ]
  },
  {
   "cell_type": "code",
   "execution_count": 466,
   "metadata": {},
   "outputs": [],
   "source": [
    "import re\n",
    "import pandas as pd\n",
    "import numpy as np\n",
    "import scipy.stats as ss\n",
    "import matplotlib.pyplot as plt\n",
    "import itertools\n",
    "from math import *\n",
    "%matplotlib inline  "
   ]
  },
  {
   "cell_type": "markdown",
   "metadata": {},
   "source": [
    "### Data processing "
   ]
  },
  {
   "cell_type": "code",
   "execution_count": 2,
   "metadata": {},
   "outputs": [],
   "source": [
    "data = '''\n",
    "1 4.90 3.87 11 4.70 4.25 21 5.06 5.54\n",
    "2 4.50 4.54 12 4.77 5.57 22 4.44 5.52\n",
    "3 4.86 4.60 13 4.75 4.36 23 4.46 5.03\n",
    "4 5.57 5.27 14 4.60 4.35 24 5.43 4.33\n",
    "5 4.62 5.59 15 5.06 4.88 25 4.83 4.56\n",
    "6 4.65 4.61 16 5.51 4.56 26 5.05 5.50\n",
    "7 4.62 5.19 17 4.66 4.84 27 5.78 5.16\n",
    "8 6.39 4.64 18 4.95 4.24 28 5.10 4.89\n",
    "9 4.36 4.35 19 4.75 4.33 29 4.68 4.89\n",
    "10 4.91 4.49 20 4.67 4.24 30 6.06 5.24\n",
    "'''"
   ]
  },
  {
   "cell_type": "code",
   "execution_count": 179,
   "metadata": {},
   "outputs": [
    {
     "data": {
      "text/html": [
       "<div>\n",
       "<style>\n",
       "    .dataframe thead tr:only-child th {\n",
       "        text-align: right;\n",
       "    }\n",
       "\n",
       "    .dataframe thead th {\n",
       "        text-align: left;\n",
       "    }\n",
       "\n",
       "    .dataframe tbody tr th {\n",
       "        vertical-align: top;\n",
       "    }\n",
       "</style>\n",
       "<table border=\"1\" class=\"dataframe\">\n",
       "  <thead>\n",
       "    <tr style=\"text-align: right;\">\n",
       "      <th></th>\n",
       "      <th>s</th>\n",
       "      <th>e</th>\n",
       "      <th>diff</th>\n",
       "    </tr>\n",
       "  </thead>\n",
       "  <tbody>\n",
       "    <tr>\n",
       "      <th>0</th>\n",
       "      <td>4.90</td>\n",
       "      <td>3.87</td>\n",
       "      <td>1.03</td>\n",
       "    </tr>\n",
       "    <tr>\n",
       "      <th>1</th>\n",
       "      <td>4.50</td>\n",
       "      <td>4.54</td>\n",
       "      <td>-0.04</td>\n",
       "    </tr>\n",
       "    <tr>\n",
       "      <th>2</th>\n",
       "      <td>4.86</td>\n",
       "      <td>4.60</td>\n",
       "      <td>0.26</td>\n",
       "    </tr>\n",
       "    <tr>\n",
       "      <th>3</th>\n",
       "      <td>5.57</td>\n",
       "      <td>5.27</td>\n",
       "      <td>0.30</td>\n",
       "    </tr>\n",
       "    <tr>\n",
       "      <th>4</th>\n",
       "      <td>4.62</td>\n",
       "      <td>5.59</td>\n",
       "      <td>-0.97</td>\n",
       "    </tr>\n",
       "  </tbody>\n",
       "</table>\n",
       "</div>"
      ],
      "text/plain": [
       "      s     e  diff\n",
       "0  4.90  3.87  1.03\n",
       "1  4.50  4.54 -0.04\n",
       "2  4.86  4.60  0.26\n",
       "3  5.57  5.27  0.30\n",
       "4  4.62  5.59 -0.97"
      ]
     },
     "execution_count": 179,
     "metadata": {},
     "output_type": "execute_result"
    }
   ],
   "source": [
    "data_sp = data.rsplit()\n",
    "s = data_sp[1::9]+data_sp[4::9]+data_sp[7::9]\n",
    "e = data_sp[2::9]+data_sp[5::9]+data_sp[8::9]\n",
    "# str to float\n",
    "s = list(map(float,s))\n",
    "e = list(map(float,e))\n",
    "df = pd.DataFrame({'s':s,'e':e})\n",
    "df= df.iloc[:,[1,0]]\n",
    "df['diff'] = df['s']-df['e']\n",
    "df.head()"
   ]
  },
  {
   "cell_type": "markdown",
   "metadata": {},
   "source": [
    "### Pair T-test"
   ]
  },
  {
   "cell_type": "code",
   "execution_count": 255,
   "metadata": {},
   "outputs": [
    {
     "data": {
      "text/plain": [
       "Ttest_relResult(statistic=1.4900472574494388, pvalue=0.14700874778391104)"
      ]
     },
     "execution_count": 255,
     "metadata": {},
     "output_type": "execute_result"
    }
   ],
   "source": [
    "ss.ttest_rel(df['s'],df['e'])"
   ]
  },
  {
   "cell_type": "markdown",
   "metadata": {},
   "source": [
    "### Permutation test\n",
    "\n",
    "The function permutation is used to conduct two-sided permutation test.  \n",
    "Argument permu_time decides permutation times, key pass the function to calculate test statistic,e.g, mean and sum.\n",
    "\n"
   ]
  },
  {
   "cell_type": "code",
   "execution_count": 397,
   "metadata": {},
   "outputs": [],
   "source": [
    "def permutation(data,permu_time,key):\n",
    "    n = len(data)\n",
    "    obs_ts = key(data)\n",
    "    data = list(map(abs,data))\n",
    "    res = np.array([])\n",
    "    for i in range(permu_time):\n",
    "        permu = (data*np.array([1 if i else -1 for i in  np.random.randint(0,2,n)]))\n",
    "        res = np.append(res,key(permu))\n",
    "    return((abs(res)>abs(obs_ts)).mean())"
   ]
  },
  {
   "cell_type": "markdown",
   "metadata": {},
   "source": [
    "or find the exact $2^n$ permutation"
   ]
  },
  {
   "cell_type": "code",
   "execution_count": 482,
   "metadata": {},
   "outputs": [],
   "source": [
    "def exact_permutation(data,key):\n",
    "    n = len(data)\n",
    "    obs_ts = key(data)\n",
    "    data = list(map(abs,data))\n",
    "    res = np.array([])\n",
    "    exact = list( map(list,list(itertools.product([0, 1], repeat=len(data)))))\n",
    "    for i in range(len(exact)):\n",
    "        permu = (data*np.array([1 if j else -1 for j in exact[i] ]))\n",
    "        res = np.append(res,key(permu))\n",
    "    return((abs(res)>abs(obs_ts)).mean())"
   ]
  },
  {
   "cell_type": "code",
   "execution_count": 484,
   "metadata": {},
   "outputs": [
    {
     "data": {
      "text/plain": [
       "0.908203125"
      ]
     },
     "execution_count": 484,
     "metadata": {},
     "output_type": "execute_result"
    }
   ],
   "source": [
    "exact_permutation(list(df['diff'])[-10:],key=lambda x : sum(x)/len(x))"
   ]
  },
  {
   "cell_type": "markdown",
   "metadata": {},
   "source": [
    "#### test statistic: $\\bar{x}$"
   ]
  },
  {
   "cell_type": "code",
   "execution_count": 398,
   "metadata": {},
   "outputs": [
    {
     "name": "stdout",
     "output_type": "stream",
     "text": [
      "p.value is 0.146\n"
     ]
    }
   ],
   "source": [
    "np.random.seed(689)\n",
    "p_value = permutation(list(df['diff']),100000,key= lambda x: sum(x)/len(x))\n",
    "print(\"p.value is {:.3f}\".format(p_value))"
   ]
  },
  {
   "cell_type": "markdown",
   "metadata": {},
   "source": [
    "#### test statistic: $\\Sigma{x_i}$"
   ]
  },
  {
   "cell_type": "code",
   "execution_count": 399,
   "metadata": {},
   "outputs": [
    {
     "name": "stdout",
     "output_type": "stream",
     "text": [
      "p.value is 0.146\n"
     ]
    }
   ],
   "source": [
    "np.random.seed(689)\n",
    "permutation(list(df['diff']),100000,key= lambda x: sum(x)/len(x))\n",
    "print(\"p.value is {:.3f}\".format(p_value))"
   ]
  },
  {
   "cell_type": "markdown",
   "metadata": {},
   "source": [
    "### Wilcoxon Signed-Rank test\n",
    "one can also use wilcoxon sign-rank test to test if median of pair samples are the same."
   ]
  },
  {
   "cell_type": "code",
   "execution_count": 400,
   "metadata": {},
   "outputs": [
    {
     "name": "stdout",
     "output_type": "stream",
     "text": [
      "p.value is 0.021\n"
     ]
    }
   ],
   "source": [
    "def absrank(data):   \n",
    "    sgn = [1 if i>0 else -1 for i in data]\n",
    "    data = ss.rankdata(abs(data))    \n",
    "    return(data*sgn)\n",
    "\n",
    "def wilcoxon(data,permu_time):\n",
    "    if not isinstance(data,np.ndarray):\n",
    "        if not isinstance(data,list):\n",
    "            return(\"Error in wilcoxon()! data should be array or list\")\n",
    "        data = np.array(data)     \n",
    "    rankdata = absrank(data)\n",
    "    obs = sum(rankdata>0)\n",
    "    res = np.array([])\n",
    "    for i in range(permu_time):\n",
    "        permu = sum(rankdata*np.array([1 if i else -1 for i in  np.random.randint(0,2,len(data))])>0)\n",
    "        res = np.append(res,permu)\n",
    "    return((res>obs).mean())\n",
    "    \n",
    "p_value = wilcoxon(list(df['diff']),100000)    \n",
    "print(\"p.value is {:.3f}\".format(p_value))"
   ]
  },
  {
   "cell_type": "markdown",
   "metadata": {},
   "source": [
    "## Exercise 2.3\n",
    "\n",
    "1. Let them choose:   \n",
    "    there's no 'randomize' in this method,and probably no one would choose diet A.\n",
    "    \n",
    "2. Take the first 10 for A, the second 10 for B:  \n",
    "    By using this method, we can get balanced sample with 10 unit assigned to diet A,others to diet B. However, this method may cause other systematic error.For example, the numbering of children may have some meaning. It may be orderd by district, gender, score, height or others, which can result in systematic error.\n",
    "3. Alternate A,B,A,B:   \n",
    "    similar to 2. , we can get balanced sample easily but we can't avoid some systematic error cause by numbering.\n",
    "\n",
    "4. Toss a coin for each child in the study:  \n",
    "   It's so called \"physical randomization\". If the coin is fair, we can get a randomized sample,cutting the sysmatic error. However, the coin is, usually, not fair. Even if it's fair, we may get a unbalanced sample. Chance are that we may get most units with one treatment, only few units assigned to the other.\n",
    "\n",
    "5. Get 20 childeren; choose 10 at random for A, the rest for B:  \n",
    "    不清楚題幹的random是什麼意思，若是由研究人員進行隨機指派，則仍會受研究人員之主觀判斷影響。"
   ]
  },
  {
   "cell_type": "markdown",
   "metadata": {},
   "source": [
    "## Exercise 2.4\n",
    "\n",
    "<table>\n",
    "  <tr>\n",
    "    <th>Reduced pH </th>\n",
    "    <th>Neutral pH</th> \n",
    "  </tr>\n",
    "  <tr>\n",
    "    <td>256,159,149 </td>\n",
    "    <td>54,123,248</td> \n",
    "  </tr>\n",
    "</table>\n",
    "\n",
    "In this exercise, we use both t-test and permutation test to test $H_0: $ two treatments\n",
    "have equal average numbers of Copepoda with $\\alpha=0.05$"
   ]
  },
  {
   "cell_type": "markdown",
   "metadata": {},
   "source": [
    "### two sample T-test (equal variance)"
   ]
  },
  {
   "cell_type": "code",
   "execution_count": 381,
   "metadata": {},
   "outputs": [
    {
     "data": {
      "text/plain": [
       "Ttest_indResult(statistic=0.69947344809037548, pvalue=0.52279605246468153)"
      ]
     },
     "execution_count": 381,
     "metadata": {},
     "output_type": "execute_result"
    }
   ],
   "source": [
    "ss.ttest_ind([256,159,149],[54,123,248])"
   ]
  },
  {
   "cell_type": "markdown",
   "metadata": {},
   "source": [
    "### permutation test with test statistic:  $\\bar{x} - \\bar{y}$"
   ]
  },
  {
   "cell_type": "code",
   "execution_count": 386,
   "metadata": {},
   "outputs": [
    {
     "name": "stdout",
     "output_type": "stream",
     "text": [
      "p.value is 0.307\n"
     ]
    }
   ],
   "source": [
    "def two_sample_permutation(data1,data2,permu_time,key):\n",
    "    n = [len(data1),len(data2)]\n",
    "    obs_ts = key(data1,data2)\n",
    "    data = data1+data2\n",
    "    res = np.array([])\n",
    "    for i in range(permu_time):\n",
    "        random.shuffle(data)\n",
    "        #data1 = data[:n[0]]\n",
    "        #data2 = data[n[1]:]\n",
    "        res = np.append(res,key(data[:n[0]],data[n[1]:]))\n",
    "    return((res>obs_ts).mean())\n",
    "\n",
    "p_value = two_sample_permutation([256,159,149],[54,123,248],10000,key=lambda x,y: abs(sum(x)/3-sum(y)/3))\n",
    "print(\"p.value is {:.3f}\".format(p_value))\n"
   ]
  },
  {
   "cell_type": "markdown",
   "metadata": {},
   "source": [
    "Both two test reject $H_0$"
   ]
  },
  {
   "cell_type": "markdown",
   "metadata": {},
   "source": [
    "## Exercise 2.5\n",
    "Sse permutation test to test $H_0:$ treatment have no effect. Set $\\alpha=0.05$\n",
    "### permutation test with test statistic $\\bar{x}$"
   ]
  },
  {
   "cell_type": "code",
   "execution_count": 401,
   "metadata": {},
   "outputs": [
    {
     "name": "stdout",
     "output_type": "stream",
     "text": [
      "p_value is 0.163\n"
     ]
    }
   ],
   "source": [
    "p_value = permutation([15.3,-31.8,-35.6,-14.5,3.1,-24.5],10000,key =lambda x: sum(x)/len(x))\n",
    "print(\"p_value is {:.3f}\".format(p_value))"
   ]
  },
  {
   "cell_type": "markdown",
   "metadata": {},
   "source": [
    "### one sample T test"
   ]
  },
  {
   "cell_type": "code",
   "execution_count": 396,
   "metadata": {},
   "outputs": [
    {
     "data": {
      "text/plain": [
       "Ttest_1sampResult(statistic=-1.7776653282680051, pvalue=0.13560206891207874)"
      ]
     },
     "execution_count": 396,
     "metadata": {},
     "output_type": "execute_result"
    }
   ],
   "source": [
    "ss.ttest_1samp([15.3,-31.8,-35.6,-14.5,3.1,-24.5],0)"
   ]
  },
  {
   "cell_type": "markdown",
   "metadata": {},
   "source": [
    "Both two test reject $H_0$"
   ]
  },
  {
   "cell_type": "markdown",
   "metadata": {},
   "source": [
    "## Problem 2.1\n",
    "To test if ratio equals to one (No significant difference), we randomly select units to create reciprocal, and count the ratio sum as test statistic."
   ]
  },
  {
   "cell_type": "code",
   "execution_count": 427,
   "metadata": {},
   "outputs": [],
   "source": [
    "def ratio_permutation(data,permu_time,key):\n",
    "    n = len(data)\n",
    "    obs_ts = key(data)\n",
    "    res = np.array([])\n",
    "    data =  [(i,1/i) for i in test]\n",
    "    for i in range(permu_time):\n",
    "        sel = np.random.randint(0,2,n)\n",
    "        permu = [data[i][sel[i]] for i in range(len(test))]\n",
    "        res = np.append(res,key(permu))\n",
    "    return([res,(res>obs_ts).mean()])\n"
   ]
  },
  {
   "cell_type": "code",
   "execution_count": 449,
   "metadata": {},
   "outputs": [
    {
     "name": "stdout",
     "output_type": "stream",
     "text": [
      "p.value is 0.50\n"
     ]
    },
    {
     "data": {
      "image/png": "[encoded data removed]",
      "text/plain": [
       "<matplotlib.figure.Figure at 0x117b3a0f0>"
      ]
     },
     "metadata": {},
     "output_type": "display_data"
    }
   ],
   "source": [
    "res = ratio_permutation([0.950, 0.978, 0.762, 0.733,0.823,1.011],10000,key=lambda x:sum(x))\n",
    "print(\"p.value is {:.2f}\".format(res[1])) \n",
    "plt.style.use('ggplot')\n",
    "fig=plt.figure(figsize=(8, 8), dpi= 80)\n",
    "_=plt.hist(res[0])"
   ]
  }
 ],
 "metadata": {
  "kernelspec": {
   "display_name": "Python 3",
   "language": "python",
   "name": "python3"
  },
  "language_info": {
   "codemirror_mode": {
    "name": "ipython",
    "version": 3
   },
   "file_extension": ".py",
   "mimetype": "text/x-python",
   "name": "python",
   "nbconvert_exporter": "python",
   "pygments_lexer": "ipython3",
   "version": "3.6.3"
  }
 },
 "nbformat": 4,
 "nbformat_minor": 2
}
